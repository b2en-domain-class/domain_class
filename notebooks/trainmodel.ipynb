{
 "cells": [
  {
   "cell_type": "code",
   "execution_count": 1,
   "metadata": {},
   "outputs": [],
   "source": [
    "%load_ext autoreload\n",
    "%autoreload 2"
   ]
  },
  {
   "cell_type": "code",
   "execution_count": 2,
   "metadata": {},
   "outputs": [],
   "source": [
    "import os\n",
    "import sys\n",
    "import glob\n",
    "from dotenv import load_dotenv, find_dotenv\n",
    "\n",
    "# Load the .env file\n",
    "load_dotenv(find_dotenv())\n",
    "\n",
    "package_path = os.getenv('PACKAGE_PATH')\n",
    "# package_path = '/home/dwna/projects/domain_class'\n",
    "sys.path.append(package_path)\n",
    "\n",
    "\n",
    "import pandas as pd\n",
    "from openpyxl import load_workbook\n",
    "import warnings\n",
    "# warnings.filterwarnings('ignore')\n",
    "\n",
    "from src.features.build_features import BuildFeatures\n"
   ]
  },
  {
   "cell_type": "code",
   "execution_count": 32,
   "metadata": {},
   "outputs": [],
   "source": [
    "import numpy as np\n",
    "from sklearn.model_selection import train_test_split, cross_val_score\n",
    "from sklearn.metrics import accuracy_score\n",
    "from sklearn.pipeline import Pipeline\n",
    "from sklearn.preprocessing import StandardScaler, OrdinalEncoder\n",
    "from sklearn.compose import ColumnTransformer\n",
    "from sklearn.linear_model import LogisticRegression\n",
    "from sklearn.ensemble import RandomForestClassifier\n",
    "from sklearn.svm import SVC\n",
    "from lightgbm import LGBMClassifier\n",
    "from catboost import CatBoostClassifier\n"
   ]
  },
  {
   "cell_type": "code",
   "execution_count": 4,
   "metadata": {},
   "outputs": [],
   "source": [
    "\n",
    "# Load data\n",
    "data = pd.read_csv(package_path + '/data/processed/profiles/1/ver_1_len_1000_rate_0.01.cvs')\n"
   ]
  },
  {
   "cell_type": "code",
   "execution_count": 6,
   "metadata": {},
   "outputs": [
    {
     "data": {
      "text/plain": [
       "Index(['col_name', 'yn', 'date_time', 'number', 'integer', 'bunho', 'email',\n",
       "       'url', 'part_num', 'part_text', 'part_discriminator', 'part_mask',\n",
       "       'part_minus', 'len_purity', 'value_nunique', 'value_distr', 'datatype',\n",
       "       'BUNHO', 'NALJJA', 'MYEONG', 'JUSO', 'YEOBU', 'CODE', 'ID', 'SURYANG',\n",
       "       'GEUMAEK', 'NAEYOUNG', 'YUL', 'ETC', 'domain'],\n",
       "      dtype='object')"
      ]
     },
     "execution_count": 6,
     "metadata": {},
     "output_type": "execute_result"
    }
   ],
   "source": [
    "data.columns"
   ]
  },
  {
   "cell_type": "code",
   "execution_count": 7,
   "metadata": {},
   "outputs": [
    {
     "data": {
      "text/plain": [
       "190"
      ]
     },
     "execution_count": 7,
     "metadata": {},
     "output_type": "execute_result"
    }
   ],
   "source": [
    "data.duplicated(subset=[ 'yn', 'date_time', 'number', 'integer', 'bunho', 'email',\n",
    "       'url', 'part_num', 'part_text', 'part_discriminator', 'part_mask',\n",
    "       'part_minus', 'len_purity', 'value_nunique', 'value_distr', 'datatype',\n",
    "       'BUNHO', 'NALJJA', 'MYEONG', 'JUSO', 'YEOBU', 'CODE', 'ID', 'SURYANG',\n",
    "       'GEUMAEK', 'NAEYOUNG', 'YUL', 'ETC' ]).sum()"
   ]
  },
  {
   "cell_type": "code",
   "execution_count": 11,
   "metadata": {},
   "outputs": [
    {
     "data": {
      "text/plain": [
       "domain\n",
       "번호    2971\n",
       "날짜    2165\n",
       "코드    1382\n",
       "수량    1197\n",
       "여부     784\n",
       "금액      78\n",
       "율       55\n",
       "Name: count, dtype: int64"
      ]
     },
     "execution_count": 11,
     "metadata": {},
     "output_type": "execute_result"
    }
   ],
   "source": [
    "data.domain.value_counts()"
   ]
  },
  {
   "cell_type": "code",
   "execution_count": 12,
   "metadata": {},
   "outputs": [],
   "source": [
    "# For demonstration\n",
    "# np.random.seed(0)\n",
    "# data = pd.DataFrame({\n",
    "#     'continuous1': np.random.rand(100),\n",
    "#     'continuous2': np.random.rand(100),\n",
    "#     'binary1': np.random.randint(0, 2, 100),\n",
    "#     'binary2': np.random.randint(0, 2, 100),\n",
    "#     'target': np.random.randint(0, 2, 100)\n",
    "# })\n",
    "\n",
    "data = data.dropna()\n",
    "# Split data into features and target\n",
    "X = data.drop(columns=['col_name', 'datatype', 'domain' ])\n",
    "y = data['domain']\n",
    "\n",
    "# Define continuous and binary columns\n",
    "continuous_cols = [col for col in X.columns if col[0].islower()]\n",
    "binary_cols = [col for col in X.columns if col[0].isupper()]\n"
   ]
  },
  {
   "cell_type": "code",
   "execution_count": 13,
   "metadata": {},
   "outputs": [
    {
     "data": {
      "text/plain": [
       "['yn',\n",
       " 'date_time',\n",
       " 'number',\n",
       " 'integer',\n",
       " 'bunho',\n",
       " 'email',\n",
       " 'url',\n",
       " 'part_num',\n",
       " 'part_text',\n",
       " 'part_discriminator',\n",
       " 'part_mask',\n",
       " 'part_minus',\n",
       " 'len_purity',\n",
       " 'value_nunique',\n",
       " 'value_distr']"
      ]
     },
     "execution_count": 13,
     "metadata": {},
     "output_type": "execute_result"
    }
   ],
   "source": [
    "continuous_cols"
   ]
  },
  {
   "cell_type": "code",
   "execution_count": 22,
   "metadata": {},
   "outputs": [
    {
     "data": {
      "text/plain": [
       "['BUNHO',\n",
       " 'NALJJA',\n",
       " 'MYEONG',\n",
       " 'JUSO',\n",
       " 'YEOBU',\n",
       " 'CODE',\n",
       " 'ID',\n",
       " 'SURYANG',\n",
       " 'GEUMAEK',\n",
       " 'NAEYOUNG',\n",
       " 'YUL',\n",
       " 'ETC']"
      ]
     },
     "execution_count": 22,
     "metadata": {},
     "output_type": "execute_result"
    }
   ],
   "source": [
    "binary_cols"
   ]
  },
  {
   "cell_type": "code",
   "execution_count": 34,
   "metadata": {},
   "outputs": [
    {
     "name": "stdout",
     "output_type": "stream",
     "text": [
      "[0.79791546 0.69947887 0.78621089 0.80880649 0.87949015]\n",
      "Logistic Regression accuracy: 0.79 +/- 0.06\n",
      "[0.83902721 0.78401853 0.82850521 0.82792584 0.84994206]\n",
      "Random Forest accuracy: 0.83 +/- 0.02\n",
      "[0.80775912 0.72611465 0.80011587 0.82734647 0.90266512]\n",
      "SVM accuracy: 0.81 +/- 0.06\n",
      "[LightGBM] [Info] Auto-choosing col-wise multi-threading, the overhead of testing was 0.000443 seconds.\n",
      "You can set `force_col_wise=true` to remove the overhead.\n",
      "[LightGBM] [Info] Total Bins 2340\n",
      "[LightGBM] [Info] Number of data points in the train set: 6905, number of used features: 21\n",
      "[LightGBM] [Info] Start training from score -4.712867\n",
      "[LightGBM] [Info] Start training from score -1.382969\n",
      "[LightGBM] [Info] Start training from score -1.066827\n",
      "[LightGBM] [Info] Start training from score -1.975153\n",
      "[LightGBM] [Info] Start training from score -2.399055\n",
      "[LightGBM] [Info] Start training from score -5.055811\n",
      "[LightGBM] [Info] Start training from score -1.831496\n",
      "[LightGBM] [Warning] No further splits with positive gain, best gain: -inf\n",
      "[LightGBM] [Warning] No further splits with positive gain, best gain: -inf\n",
      "[LightGBM] [Warning] No further splits with positive gain, best gain: -inf\n",
      "[LightGBM] [Warning] No further splits with positive gain, best gain: -inf\n",
      "[LightGBM] [Warning] No further splits with positive gain, best gain: -inf\n",
      "[LightGBM] [Warning] No further splits with positive gain, best gain: -inf\n",
      "[LightGBM] [Warning] No further splits with positive gain, best gain: -inf\n",
      "[LightGBM] [Info] Auto-choosing row-wise multi-threading, the overhead of testing was 0.000491 seconds.\n",
      "You can set `force_row_wise=true` to remove the overhead.\n",
      "And if memory is not enough, you can set `force_col_wise=true`.\n",
      "[LightGBM] [Info] Total Bins 2212\n",
      "[LightGBM] [Info] Number of data points in the train set: 6905, number of used features: 21\n",
      "[LightGBM] [Info] Start training from score -4.712867\n",
      "[LightGBM] [Info] Start training from score -1.382969\n",
      "[LightGBM] [Info] Start training from score -1.066407\n",
      "[LightGBM] [Info] Start training from score -1.975153\n",
      "[LightGBM] [Info] Start training from score -2.399055\n",
      "[LightGBM] [Info] Start training from score -5.055811\n",
      "[LightGBM] [Info] Start training from score -1.832400\n",
      "[LightGBM] [Warning] No further splits with positive gain, best gain: -inf\n",
      "[LightGBM] [Warning] No further splits with positive gain, best gain: -inf\n",
      "[LightGBM] [Warning] No further splits with positive gain, best gain: -inf\n",
      "[LightGBM] [Warning] No further splits with positive gain, best gain: -inf\n",
      "[LightGBM] [Info] Auto-choosing col-wise multi-threading, the overhead of testing was 0.001524 seconds.\n",
      "You can set `force_col_wise=true` to remove the overhead.\n",
      "[LightGBM] [Info] Total Bins 2246\n",
      "[LightGBM] [Info] Number of data points in the train set: 6906, number of used features: 21\n",
      "[LightGBM] [Info] Start training from score -4.697011\n",
      "[LightGBM] [Info] Start training from score -1.383114\n",
      "[LightGBM] [Info] Start training from score -1.066551\n",
      "[LightGBM] [Info] Start training from score -1.976342\n",
      "[LightGBM] [Info] Start training from score -2.397606\n",
      "[LightGBM] [Info] Start training from score -5.055956\n",
      "[LightGBM] [Info] Start training from score -1.832545\n",
      "[LightGBM] [Warning] No further splits with positive gain, best gain: -inf\n",
      "[LightGBM] [Info] Auto-choosing row-wise multi-threading, the overhead of testing was 0.000459 seconds.\n",
      "You can set `force_row_wise=true` to remove the overhead.\n",
      "And if memory is not enough, you can set `force_col_wise=true`.\n",
      "[LightGBM] [Info] Total Bins 2278\n",
      "[LightGBM] [Info] Number of data points in the train set: 6906, number of used features: 21\n",
      "[LightGBM] [Info] Start training from score -4.697011\n",
      "[LightGBM] [Info] Start training from score -1.383114\n",
      "[LightGBM] [Info] Start training from score -1.066551\n",
      "[LightGBM] [Info] Start training from score -1.976342\n",
      "[LightGBM] [Info] Start training from score -2.399199\n",
      "[LightGBM] [Info] Start training from score -5.055956\n",
      "[LightGBM] [Info] Start training from score -1.831641\n",
      "[LightGBM] [Warning] No further splits with positive gain, best gain: -inf\n",
      "[LightGBM] [Info] Auto-choosing row-wise multi-threading, the overhead of testing was 0.000398 seconds.\n",
      "You can set `force_row_wise=true` to remove the overhead.\n",
      "And if memory is not enough, you can set `force_col_wise=true`.\n",
      "[LightGBM] [Info] Total Bins 2257\n",
      "[LightGBM] [Info] Number of data points in the train set: 6906, number of used features: 20\n",
      "[LightGBM] [Info] Start training from score -4.713011\n",
      "[LightGBM] [Info] Start training from score -1.383114\n",
      "[LightGBM] [Info] Start training from score -1.066551\n",
      "[LightGBM] [Info] Start training from score -1.975298\n",
      "[LightGBM] [Info] Start training from score -2.399199\n",
      "[LightGBM] [Info] Start training from score -5.055956\n",
      "[LightGBM] [Info] Start training from score -1.831641\n",
      "[LightGBM] [Warning] No further splits with positive gain, best gain: -inf\n",
      "[0.83149971 0.79617834 0.83198146 0.83314021 0.84588644]\n",
      "LightGBM accuracy: 0.83 +/- 0.02\n",
      "[0.84134337 0.79270411 0.83487833 0.84878331 0.86326767]\n",
      "CatBoost accuracy: 0.84 +/- 0.02\n"
     ]
    }
   ],
   "source": [
    "\n",
    "# Create a column transformer for preprocessing\n",
    "preprocessor = ColumnTransformer(\n",
    "    transformers=[\n",
    "        ('num', StandardScaler(), continuous_cols),\n",
    "        # ('cat', OrdinalEncoder(handle_unknown='use_encoded_value', unknown_value=-1), binary_cols)\n",
    "    ],\n",
    "    remainder='passthrough'\n",
    ")\n",
    "\n",
    "# Define classifiers to compare\n",
    "classifiers = {\n",
    "    'Logistic Regression': LogisticRegression(),\n",
    "    'Random Forest': RandomForestClassifier(),\n",
    "    'SVM': SVC(),\n",
    "    'LightGBM': LGBMClassifier(),\n",
    "    'CatBoost': CatBoostClassifier(verbose=0)  # verbose=0 to prevent lots of output\n",
    "}\n",
    "\n",
    "# X_train, X_test, y_train, y_test = train_test_split(X, y, test_size=0.2, random_state=42)\n",
    "\n",
    "# Compare classifiers\n",
    "for name, classifier in classifiers.items():\n",
    "    pipeline = Pipeline(steps=[('preprocessor', preprocessor),\n",
    "                               ('classifier', classifier)]\n",
    "    )\n",
    "    # Train the model on the training set\n",
    "    # pipeline.fit(X_train, y_train)\n",
    "\n",
    "    # Make predictions on the test set\n",
    "    # y_pred = pipeline.predict(X_test)\n",
    "\n",
    "    # Calculate the accuracy on the test set\n",
    "    # accuracy = accuracy_score(y_test, y_pred)\n",
    "    # print(f'{name} Test Accuracy: {accuracy:.2f}')\n",
    "\n",
    "\n",
    "    # Cross-validation\n",
    "    cv_scores = cross_val_score(pipeline, X, y, cv=5)\n",
    "    print(cv_scores)\n",
    "    print(f'{name} accuracy: {np.mean(cv_scores):.2f} +/- {np.std(cv_scores):.2f}')\n",
    "# \n",
    "# analyze, tune, or select the model based on the output."
   ]
  },
  {
   "cell_type": "code",
   "execution_count": null,
   "metadata": {},
   "outputs": [],
   "source": [
    "X_train, X_test, y_train, y_test = train_test_split(X, y, test_size=0.2, random_state=42)\n",
    "name, classifier = 'lgbm', \n",
    "\n",
    "    pipeline = Pipeline(steps=[('preprocessor', preprocessor),\n",
    "                               ('classifier', classifier)]\n",
    "    )"
   ]
  },
  {
   "cell_type": "code",
   "execution_count": 52,
   "metadata": {},
   "outputs": [
    {
     "name": "stdout",
     "output_type": "stream",
     "text": [
      "\u001b[0;31mSignature:\u001b[0m \u001b[0mpipeline\u001b[0m\u001b[0;34m.\u001b[0m\u001b[0mpredict\u001b[0m\u001b[0;34m(\u001b[0m\u001b[0mX\u001b[0m\u001b[0;34m,\u001b[0m \u001b[0;34m**\u001b[0m\u001b[0mpredict_params\u001b[0m\u001b[0;34m)\u001b[0m\u001b[0;34m\u001b[0m\u001b[0;34m\u001b[0m\u001b[0m\n",
      "\u001b[0;31mDocstring:\u001b[0m\n",
      "Transform the data, and apply `predict` with the final estimator.\n",
      "\n",
      "Call `transform` of each transformer in the pipeline. The transformed\n",
      "data are finally passed to the final estimator that calls `predict`\n",
      "method. Only valid if the final estimator implements `predict`.\n",
      "\n",
      "Parameters\n",
      "----------\n",
      "X : iterable\n",
      "    Data to predict on. Must fulfill input requirements of first step\n",
      "    of the pipeline.\n",
      "\n",
      "**predict_params : dict of string -> object\n",
      "    Parameters to the ``predict`` called at the end of all\n",
      "    transformations in the pipeline. Note that while this may be\n",
      "    used to return uncertainties from some models with return_std\n",
      "    or return_cov, uncertainties that are generated by the\n",
      "    transformations in the pipeline are not propagated to the\n",
      "    final estimator.\n",
      "\n",
      "    .. versionadded:: 0.20\n",
      "\n",
      "Returns\n",
      "-------\n",
      "y_pred : ndarray\n",
      "    Result of calling `predict` on the final estimator.\n",
      "\u001b[0;31mFile:\u001b[0m      ~/projects/domain_class/.venv/lib/python3.8/site-packages/sklearn/pipeline.py\n",
      "\u001b[0;31mType:\u001b[0m      method"
     ]
    }
   ],
   "source": [
    "pipeline.predict?"
   ]
  },
  {
   "cell_type": "code",
   "execution_count": 29,
   "metadata": {},
   "outputs": [
    {
     "data": {
      "text/plain": [
       "[BUNHO\n",
       " 0    7528\n",
       " 1    1104\n",
       " Name: count, dtype: int64,\n",
       " NALJJA\n",
       " 0    7707\n",
       " 1     925\n",
       " Name: count, dtype: int64,\n",
       " MYEONG\n",
       " 0    8631\n",
       " 1       1\n",
       " Name: count, dtype: int64,\n",
       " JUSO\n",
       " 0    8629\n",
       " 1       3\n",
       " Name: count, dtype: int64,\n",
       " YEOBU\n",
       " 0    7956\n",
       " 1     676\n",
       " Name: count, dtype: int64,\n",
       " CODE\n",
       " 0    7769\n",
       " 1     863\n",
       " Name: count, dtype: int64,\n",
       " ID\n",
       " 0    7477\n",
       " 1    1155\n",
       " Name: count, dtype: int64,\n",
       " SURYANG\n",
       " 0    8466\n",
       " 1     166\n",
       " Name: count, dtype: int64,\n",
       " GEUMAEK\n",
       " 0    8503\n",
       " 1     129\n",
       " Name: count, dtype: int64,\n",
       " NAEYOUNG\n",
       " 0    8627\n",
       " 1       5\n",
       " Name: count, dtype: int64,\n",
       " YUL\n",
       " 0    8592\n",
       " 1      40\n",
       " Name: count, dtype: int64,\n",
       " ETC\n",
       " 0    5067\n",
       " 1    3565\n",
       " Name: count, dtype: int64]"
      ]
     },
     "execution_count": 29,
     "metadata": {},
     "output_type": "execute_result"
    }
   ],
   "source": [
    "[X[col].value_counts() for col in X[binary_cols]]  "
   ]
  },
  {
   "cell_type": "code",
   "execution_count": 1,
   "metadata": {},
   "outputs": [],
   "source": [
    "from sklearn.metrics import classification_report"
   ]
  },
  {
   "cell_type": "code",
   "execution_count": 2,
   "metadata": {},
   "outputs": [
    {
     "name": "stdout",
     "output_type": "stream",
     "text": [
      "\u001b[0;31mSignature:\u001b[0m\n",
      "\u001b[0mclassification_report\u001b[0m\u001b[0;34m(\u001b[0m\u001b[0;34m\u001b[0m\n",
      "\u001b[0;34m\u001b[0m    \u001b[0my_true\u001b[0m\u001b[0;34m,\u001b[0m\u001b[0;34m\u001b[0m\n",
      "\u001b[0;34m\u001b[0m    \u001b[0my_pred\u001b[0m\u001b[0;34m,\u001b[0m\u001b[0;34m\u001b[0m\n",
      "\u001b[0;34m\u001b[0m    \u001b[0;34m*\u001b[0m\u001b[0;34m,\u001b[0m\u001b[0;34m\u001b[0m\n",
      "\u001b[0;34m\u001b[0m    \u001b[0mlabels\u001b[0m\u001b[0;34m=\u001b[0m\u001b[0;32mNone\u001b[0m\u001b[0;34m,\u001b[0m\u001b[0;34m\u001b[0m\n",
      "\u001b[0;34m\u001b[0m    \u001b[0mtarget_names\u001b[0m\u001b[0;34m=\u001b[0m\u001b[0;32mNone\u001b[0m\u001b[0;34m,\u001b[0m\u001b[0;34m\u001b[0m\n",
      "\u001b[0;34m\u001b[0m    \u001b[0msample_weight\u001b[0m\u001b[0;34m=\u001b[0m\u001b[0;32mNone\u001b[0m\u001b[0;34m,\u001b[0m\u001b[0;34m\u001b[0m\n",
      "\u001b[0;34m\u001b[0m    \u001b[0mdigits\u001b[0m\u001b[0;34m=\u001b[0m\u001b[0;36m2\u001b[0m\u001b[0;34m,\u001b[0m\u001b[0;34m\u001b[0m\n",
      "\u001b[0;34m\u001b[0m    \u001b[0moutput_dict\u001b[0m\u001b[0;34m=\u001b[0m\u001b[0;32mFalse\u001b[0m\u001b[0;34m,\u001b[0m\u001b[0;34m\u001b[0m\n",
      "\u001b[0;34m\u001b[0m    \u001b[0mzero_division\u001b[0m\u001b[0;34m=\u001b[0m\u001b[0;34m'warn'\u001b[0m\u001b[0;34m,\u001b[0m\u001b[0;34m\u001b[0m\n",
      "\u001b[0;34m\u001b[0m\u001b[0;34m)\u001b[0m\u001b[0;34m\u001b[0m\u001b[0;34m\u001b[0m\u001b[0m\n",
      "\u001b[0;31mDocstring:\u001b[0m\n",
      "Build a text report showing the main classification metrics.\n",
      "\n",
      "Read more in the :ref:`User Guide <classification_report>`.\n",
      "\n",
      "Parameters\n",
      "----------\n",
      "y_true : 1d array-like, or label indicator array / sparse matrix\n",
      "    Ground truth (correct) target values.\n",
      "\n",
      "y_pred : 1d array-like, or label indicator array / sparse matrix\n",
      "    Estimated targets as returned by a classifier.\n",
      "\n",
      "labels : array-like of shape (n_labels,), default=None\n",
      "    Optional list of label indices to include in the report.\n",
      "\n",
      "target_names : array-like of shape (n_labels,), default=None\n",
      "    Optional display names matching the labels (same order).\n",
      "\n",
      "sample_weight : array-like of shape (n_samples,), default=None\n",
      "    Sample weights.\n",
      "\n",
      "digits : int, default=2\n",
      "    Number of digits for formatting output floating point values.\n",
      "    When ``output_dict`` is ``True``, this will be ignored and the\n",
      "    returned values will not be rounded.\n",
      "\n",
      "output_dict : bool, default=False\n",
      "    If True, return output as dict.\n",
      "\n",
      "    .. versionadded:: 0.20\n",
      "\n",
      "zero_division : {\"warn\", 0.0, 1.0, np.nan}, default=\"warn\"\n",
      "    Sets the value to return when there is a zero division. If set to\n",
      "    \"warn\", this acts as 0, but warnings are also raised.\n",
      "\n",
      "    .. versionadded:: 1.3\n",
      "       `np.nan` option was added.\n",
      "\n",
      "Returns\n",
      "-------\n",
      "report : str or dict\n",
      "    Text summary of the precision, recall, F1 score for each class.\n",
      "    Dictionary returned if output_dict is True. Dictionary has the\n",
      "    following structure::\n",
      "\n",
      "        {'label 1': {'precision':0.5,\n",
      "                     'recall':1.0,\n",
      "                     'f1-score':0.67,\n",
      "                     'support':1},\n",
      "         'label 2': { ... },\n",
      "          ...\n",
      "        }\n",
      "\n",
      "    The reported averages include macro average (averaging the unweighted\n",
      "    mean per label), weighted average (averaging the support-weighted mean\n",
      "    per label), and sample average (only for multilabel classification).\n",
      "    Micro average (averaging the total true positives, false negatives and\n",
      "    false positives) is only shown for multi-label or multi-class\n",
      "    with a subset of classes, because it corresponds to accuracy\n",
      "    otherwise and would be the same for all metrics.\n",
      "    See also :func:`precision_recall_fscore_support` for more details\n",
      "    on averages.\n",
      "\n",
      "    Note that in binary classification, recall of the positive class\n",
      "    is also known as \"sensitivity\"; recall of the negative class is\n",
      "    \"specificity\".\n",
      "\n",
      "See Also\n",
      "--------\n",
      "precision_recall_fscore_support: Compute precision, recall, F-measure and\n",
      "    support for each class.\n",
      "confusion_matrix: Compute confusion matrix to evaluate the accuracy of a\n",
      "    classification.\n",
      "multilabel_confusion_matrix: Compute a confusion matrix for each class or sample.\n",
      "\n",
      "Examples\n",
      "--------\n",
      ">>> from sklearn.metrics import classification_report\n",
      ">>> y_true = [0, 1, 2, 2, 2]\n",
      ">>> y_pred = [0, 0, 2, 2, 1]\n",
      ">>> target_names = ['class 0', 'class 1', 'class 2']\n",
      ">>> print(classification_report(y_true, y_pred, target_names=target_names))\n",
      "              precision    recall  f1-score   support\n",
      "<BLANKLINE>\n",
      "     class 0       0.50      1.00      0.67         1\n",
      "     class 1       0.00      0.00      0.00         1\n",
      "     class 2       1.00      0.67      0.80         3\n",
      "<BLANKLINE>\n",
      "    accuracy                           0.60         5\n",
      "   macro avg       0.50      0.56      0.49         5\n",
      "weighted avg       0.70      0.60      0.61         5\n",
      "<BLANKLINE>\n",
      ">>> y_pred = [1, 1, 0]\n",
      ">>> y_true = [1, 1, 1]\n",
      ">>> print(classification_report(y_true, y_pred, labels=[1, 2, 3]))\n",
      "              precision    recall  f1-score   support\n",
      "<BLANKLINE>\n",
      "           1       1.00      0.67      0.80         3\n",
      "           2       0.00      0.00      0.00         0\n",
      "           3       0.00      0.00      0.00         0\n",
      "<BLANKLINE>\n",
      "   micro avg       1.00      0.67      0.80         3\n",
      "   macro avg       0.33      0.22      0.27         3\n",
      "weighted avg       1.00      0.67      0.80         3\n",
      "<BLANKLINE>\n",
      "\u001b[0;31mFile:\u001b[0m      ~/projects/domain_class/.venv/lib/python3.8/site-packages/sklearn/metrics/_classification.py\n",
      "\u001b[0;31mType:\u001b[0m      function"
     ]
    }
   ],
   "source": [
    "classification_report?"
   ]
  },
  {
   "cell_type": "code",
   "execution_count": 4,
   "metadata": {},
   "outputs": [
    {
     "name": "stderr",
     "output_type": "stream",
     "text": [
      "/home/dwna/projects/domain_class/.venv/lib/python3.8/site-packages/pydantic/_internal/_fields.py:149: UserWarning: Field \"model_server_url\" has conflict with protected namespace \"model_\".\n",
      "\n",
      "You may be able to resolve this warning by setting `model_config['protected_namespaces'] = ()`.\n",
      "  warnings.warn(\n",
      "/home/dwna/projects/domain_class/.venv/lib/python3.8/site-packages/pydantic/_internal/_config.py:318: UserWarning: Valid config keys have changed in V2:\n",
      "* 'schema_extra' has been renamed to 'json_schema_extra'\n",
      "  warnings.warn(message, UserWarning)\n"
     ]
    }
   ],
   "source": [
    "import mlflow"
   ]
  },
  {
   "cell_type": "code",
   "execution_count": 6,
   "metadata": {},
   "outputs": [
    {
     "name": "stdout",
     "output_type": "stream",
     "text": [
      "\u001b[0;31mSignature:\u001b[0m\n",
      "\u001b[0mmlflow\u001b[0m\u001b[0;34m.\u001b[0m\u001b[0mlog_artifacts\u001b[0m\u001b[0;34m(\u001b[0m\u001b[0;34m\u001b[0m\n",
      "\u001b[0;34m\u001b[0m    \u001b[0mlocal_dir\u001b[0m\u001b[0;34m:\u001b[0m \u001b[0mstr\u001b[0m\u001b[0;34m,\u001b[0m\u001b[0;34m\u001b[0m\n",
      "\u001b[0;34m\u001b[0m    \u001b[0martifact_path\u001b[0m\u001b[0;34m:\u001b[0m \u001b[0mUnion\u001b[0m\u001b[0;34m[\u001b[0m\u001b[0mstr\u001b[0m\u001b[0;34m,\u001b[0m \u001b[0mNoneType\u001b[0m\u001b[0;34m]\u001b[0m \u001b[0;34m=\u001b[0m \u001b[0;32mNone\u001b[0m\u001b[0;34m,\u001b[0m\u001b[0;34m\u001b[0m\n",
      "\u001b[0;34m\u001b[0m\u001b[0;34m)\u001b[0m \u001b[0;34m->\u001b[0m \u001b[0;32mNone\u001b[0m\u001b[0;34m\u001b[0m\u001b[0;34m\u001b[0m\u001b[0m\n",
      "\u001b[0;31mDocstring:\u001b[0m\n",
      "Log all the contents of a local directory as artifacts of the run. If no run is active,\n",
      "this method will create a new active run.\n",
      "\n",
      ":param local_dir: Path to the directory of files to write.\n",
      ":param artifact_path: If provided, the directory in ``artifact_uri`` to write to.\n",
      "\n",
      ".. testcode:: python\n",
      "    :caption: Example\n",
      "\n",
      "    import json\n",
      "    import os\n",
      "    import mlflow\n",
      "\n",
      "    # Create some files to preserve as artifacts\n",
      "    features = \"rooms, zipcode, median_price, school_rating, transport\"\n",
      "    data = {\"state\": \"TX\", \"Available\": 25, \"Type\": \"Detached\"}\n",
      "\n",
      "    # Create couple of artifact files under the directory \"data\"\n",
      "    os.makedirs(\"data\", exist_ok=True)\n",
      "    with open(\"data/data.json\", \"w\", encoding=\"utf-8\") as f:\n",
      "        json.dump(data, f, indent=2)\n",
      "    with open(\"data/features.txt\", \"w\") as f:\n",
      "        f.write(features)\n",
      "\n",
      "    # Write all files in \"data\" to root artifact_uri/states\n",
      "    with mlflow.start_run():\n",
      "        mlflow.log_artifacts(\"data\", artifact_path=\"states\")\n",
      "\u001b[0;31mFile:\u001b[0m      ~/projects/domain_class/.venv/lib/python3.8/site-packages/mlflow/tracking/fluent.py\n",
      "\u001b[0;31mType:\u001b[0m      function"
     ]
    }
   ],
   "source": [
    "mlflow.log_artifacts?"
   ]
  }
 ],
 "metadata": {
  "kernelspec": {
   "display_name": ".venv",
   "language": "python",
   "name": "python3"
  },
  "language_info": {
   "codemirror_mode": {
    "name": "ipython",
    "version": 3
   },
   "file_extension": ".py",
   "mimetype": "text/x-python",
   "name": "python",
   "nbconvert_exporter": "python",
   "pygments_lexer": "ipython3",
   "version": "3.8.10"
  }
 },
 "nbformat": 4,
 "nbformat_minor": 2
}
