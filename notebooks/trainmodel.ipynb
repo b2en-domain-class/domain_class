{
 "cells": [
  {
   "cell_type": "code",
   "execution_count": 1,
   "metadata": {},
   "outputs": [],
   "source": [
    "%load_ext autoreload\n",
    "%autoreload 2"
   ]
  },
  {
   "cell_type": "code",
   "execution_count": 2,
   "metadata": {},
   "outputs": [],
   "source": [
    "import os\n",
    "import sys\n",
    "import glob\n",
    "from dotenv import load_dotenv, find_dotenv\n",
    "\n",
    "# Load the .env file\n",
    "load_dotenv(find_dotenv())\n",
    "\n",
    "package_path = os.getenv('PACKAGE_PATH')\n",
    "# package_path = '/home/dwna/projects/domain_class'\n",
    "sys.path.append(package_path)\n",
    "\n",
    "\n",
    "import pandas as pd\n",
    "from openpyxl import load_workbook\n",
    "import warnings\n",
    "# warnings.filterwarnings('ignore')\n",
    "\n",
    "from src.features.build_features import BuildFeatures\n"
   ]
  },
  {
   "cell_type": "code",
   "execution_count": 32,
   "metadata": {},
   "outputs": [],
   "source": [
    "import numpy as np\n",
    "from sklearn.model_selection import train_test_split, cross_val_score\n",
    "from sklearn.metrics import accuracy_score\n",
    "from sklearn.pipeline import Pipeline\n",
    "from sklearn.preprocessing import StandardScaler, OrdinalEncoder\n",
    "from sklearn.compose import ColumnTransformer\n",
    "from sklearn.linear_model import LogisticRegression\n",
    "from sklearn.ensemble import RandomForestClassifier\n",
    "from sklearn.svm import SVC\n",
    "from lightgbm import LGBMClassifier\n",
    "from catboost import CatBoostClassifier\n"
   ]
  },
  {
   "cell_type": "code",
   "execution_count": 4,
   "metadata": {},
   "outputs": [],
   "source": [
    "\n",
    "# Load data\n",
    "data = pd.read_csv(package_path + '/data/processed/profiles/1/ver_1_len_1000_rate_0.01.cvs')\n"
   ]
  },
  {
   "cell_type": "code",
   "execution_count": 6,
   "metadata": {},
   "outputs": [
    {
     "data": {
      "text/plain": [
       "Index(['col_name', 'yn', 'date_time', 'number', 'integer', 'bunho', 'email',\n",
       "       'url', 'part_num', 'part_text', 'part_discriminator', 'part_mask',\n",
       "       'part_minus', 'len_purity', 'value_nunique', 'value_distr', 'datatype',\n",
       "       'BUNHO', 'NALJJA', 'MYEONG', 'JUSO', 'YEOBU', 'CODE', 'ID', 'SURYANG',\n",
       "       'GEUMAEK', 'NAEYOUNG', 'YUL', 'ETC', 'domain'],\n",
       "      dtype='object')"
      ]
     },
     "execution_count": 6,
     "metadata": {},
     "output_type": "execute_result"
    }
   ],
   "source": [
    "data.columns"
   ]
  },
  {
   "cell_type": "code",
   "execution_count": 7,
   "metadata": {},
   "outputs": [
    {
     "data": {
      "text/plain": [
       "190"
      ]
     },
     "execution_count": 7,
     "metadata": {},
     "output_type": "execute_result"
    }
   ],
   "source": [
    "data.duplicated(subset=[ 'yn', 'date_time', 'number', 'integer', 'bunho', 'email',\n",
    "       'url', 'part_num', 'part_text', 'part_discriminator', 'part_mask',\n",
    "       'part_minus', 'len_purity', 'value_nunique', 'value_distr', 'datatype',\n",
    "       'BUNHO', 'NALJJA', 'MYEONG', 'JUSO', 'YEOBU', 'CODE', 'ID', 'SURYANG',\n",
    "       'GEUMAEK', 'NAEYOUNG', 'YUL', 'ETC' ]).sum()"
   ]
  },
  {
   "cell_type": "code",
   "execution_count": 11,
   "metadata": {},
   "outputs": [
    {
     "data": {
      "text/plain": [
       "domain\n",
       "번호    2971\n",
       "날짜    2165\n",
       "코드    1382\n",
       "수량    1197\n",
       "여부     784\n",
       "금액      78\n",
       "율       55\n",
       "Name: count, dtype: int64"
      ]
     },
     "execution_count": 11,
     "metadata": {},
     "output_type": "execute_result"
    }
   ],
   "source": [
    "data.domain.value_counts()"
   ]
  },
  {
   "cell_type": "code",
   "execution_count": 12,
   "metadata": {},
   "outputs": [],
   "source": [
    "# For demonstration\n",
    "# np.random.seed(0)\n",
    "# data = pd.DataFrame({\n",
    "#     'continuous1': np.random.rand(100),\n",
    "#     'continuous2': np.random.rand(100),\n",
    "#     'binary1': np.random.randint(0, 2, 100),\n",
    "#     'binary2': np.random.randint(0, 2, 100),\n",
    "#     'target': np.random.randint(0, 2, 100)\n",
    "# })\n",
    "\n",
    "data = data.dropna()\n",
    "# Split data into features and target\n",
    "X = data.drop(columns=['col_name', 'datatype', 'domain' ])\n",
    "y = data['domain']\n",
    "\n",
    "# Define continuous and binary columns\n",
    "continuous_cols = [col for col in X.columns if col[0].islower()]\n",
    "binary_cols = [col for col in X.columns if col[0].isupper()]\n"
   ]
  },
  {
   "cell_type": "code",
   "execution_count": 13,
   "metadata": {},
   "outputs": [
    {
     "data": {
      "text/plain": [
       "['yn',\n",
       " 'date_time',\n",
       " 'number',\n",
       " 'integer',\n",
       " 'bunho',\n",
       " 'email',\n",
       " 'url',\n",
       " 'part_num',\n",
       " 'part_text',\n",
       " 'part_discriminator',\n",
       " 'part_mask',\n",
       " 'part_minus',\n",
       " 'len_purity',\n",
       " 'value_nunique',\n",
       " 'value_distr']"
      ]
     },
     "execution_count": 13,
     "metadata": {},
     "output_type": "execute_result"
    }
   ],
   "source": [
    "continuous_cols"
   ]
  },
  {
   "cell_type": "code",
   "execution_count": 22,
   "metadata": {},
   "outputs": [
    {
     "data": {
      "text/plain": [
       "['BUNHO',\n",
       " 'NALJJA',\n",
       " 'MYEONG',\n",
       " 'JUSO',\n",
       " 'YEOBU',\n",
       " 'CODE',\n",
       " 'ID',\n",
       " 'SURYANG',\n",
       " 'GEUMAEK',\n",
       " 'NAEYOUNG',\n",
       " 'YUL',\n",
       " 'ETC']"
      ]
     },
     "execution_count": 22,
     "metadata": {},
     "output_type": "execute_result"
    }
   ],
   "source": [
    "binary_cols"
   ]
  },
  {
   "cell_type": "code",
   "execution_count": 34,
   "metadata": {},
   "outputs": [
    {
     "name": "stdout",
     "output_type": "stream",
     "text": [
      "[0.79791546 0.69947887 0.78621089 0.80880649 0.87949015]\n",
      "Logistic Regression accuracy: 0.79 +/- 0.06\n",
      "[0.83902721 0.78401853 0.82850521 0.82792584 0.84994206]\n",
      "Random Forest accuracy: 0.83 +/- 0.02\n",
      "[0.80775912 0.72611465 0.80011587 0.82734647 0.90266512]\n",
      "SVM accuracy: 0.81 +/- 0.06\n",
      "[LightGBM] [Info] Auto-choosing col-wise multi-threading, the overhead of testing was 0.000443 seconds.\n",
      "You can set `force_col_wise=true` to remove the overhead.\n",
      "[LightGBM] [Info] Total Bins 2340\n",
      "[LightGBM] [Info] Number of data points in the train set: 6905, number of used features: 21\n",
      "[LightGBM] [Info] Start training from score -4.712867\n",
      "[LightGBM] [Info] Start training from score -1.382969\n",
      "[LightGBM] [Info] Start training from score -1.066827\n",
      "[LightGBM] [Info] Start training from score -1.975153\n",
      "[LightGBM] [Info] Start training from score -2.399055\n",
      "[LightGBM] [Info] Start training from score -5.055811\n",
      "[LightGBM] [Info] Start training from score -1.831496\n",
      "[LightGBM] [Warning] No further splits with positive gain, best gain: -inf\n",
      "[LightGBM] [Warning] No further splits with positive gain, best gain: -inf\n",
      "[LightGBM] [Warning] No further splits with positive gain, best gain: -inf\n",
      "[LightGBM] [Warning] No further splits with positive gain, best gain: -inf\n",
      "[LightGBM] [Warning] No further splits with positive gain, best gain: -inf\n",
      "[LightGBM] [Warning] No further splits with positive gain, best gain: -inf\n",
      "[LightGBM] [Warning] No further splits with positive gain, best gain: -inf\n",
      "[LightGBM] [Info] Auto-choosing row-wise multi-threading, the overhead of testing was 0.000491 seconds.\n",
      "You can set `force_row_wise=true` to remove the overhead.\n",
      "And if memory is not enough, you can set `force_col_wise=true`.\n",
      "[LightGBM] [Info] Total Bins 2212\n",
      "[LightGBM] [Info] Number of data points in the train set: 6905, number of used features: 21\n",
      "[LightGBM] [Info] Start training from score -4.712867\n",
      "[LightGBM] [Info] Start training from score -1.382969\n",
      "[LightGBM] [Info] Start training from score -1.066407\n",
      "[LightGBM] [Info] Start training from score -1.975153\n",
      "[LightGBM] [Info] Start training from score -2.399055\n",
      "[LightGBM] [Info] Start training from score -5.055811\n",
      "[LightGBM] [Info] Start training from score -1.832400\n",
      "[LightGBM] [Warning] No further splits with positive gain, best gain: -inf\n",
      "[LightGBM] [Warning] No further splits with positive gain, best gain: -inf\n",
      "[LightGBM] [Warning] No further splits with positive gain, best gain: -inf\n",
      "[LightGBM] [Warning] No further splits with positive gain, best gain: -inf\n",
      "[LightGBM] [Info] Auto-choosing col-wise multi-threading, the overhead of testing was 0.001524 seconds.\n",
      "You can set `force_col_wise=true` to remove the overhead.\n",
      "[LightGBM] [Info] Total Bins 2246\n",
      "[LightGBM] [Info] Number of data points in the train set: 6906, number of used features: 21\n",
      "[LightGBM] [Info] Start training from score -4.697011\n",
      "[LightGBM] [Info] Start training from score -1.383114\n",
      "[LightGBM] [Info] Start training from score -1.066551\n",
      "[LightGBM] [Info] Start training from score -1.976342\n",
      "[LightGBM] [Info] Start training from score -2.397606\n",
      "[LightGBM] [Info] Start training from score -5.055956\n",
      "[LightGBM] [Info] Start training from score -1.832545\n",
      "[LightGBM] [Warning] No further splits with positive gain, best gain: -inf\n",
      "[LightGBM] [Info] Auto-choosing row-wise multi-threading, the overhead of testing was 0.000459 seconds.\n",
      "You can set `force_row_wise=true` to remove the overhead.\n",
      "And if memory is not enough, you can set `force_col_wise=true`.\n",
      "[LightGBM] [Info] Total Bins 2278\n",
      "[LightGBM] [Info] Number of data points in the train set: 6906, number of used features: 21\n",
      "[LightGBM] [Info] Start training from score -4.697011\n",
      "[LightGBM] [Info] Start training from score -1.383114\n",
      "[LightGBM] [Info] Start training from score -1.066551\n",
      "[LightGBM] [Info] Start training from score -1.976342\n",
      "[LightGBM] [Info] Start training from score -2.399199\n",
      "[LightGBM] [Info] Start training from score -5.055956\n",
      "[LightGBM] [Info] Start training from score -1.831641\n",
      "[LightGBM] [Warning] No further splits with positive gain, best gain: -inf\n",
      "[LightGBM] [Info] Auto-choosing row-wise multi-threading, the overhead of testing was 0.000398 seconds.\n",
      "You can set `force_row_wise=true` to remove the overhead.\n",
      "And if memory is not enough, you can set `force_col_wise=true`.\n",
      "[LightGBM] [Info] Total Bins 2257\n",
      "[LightGBM] [Info] Number of data points in the train set: 6906, number of used features: 20\n",
      "[LightGBM] [Info] Start training from score -4.713011\n",
      "[LightGBM] [Info] Start training from score -1.383114\n",
      "[LightGBM] [Info] Start training from score -1.066551\n",
      "[LightGBM] [Info] Start training from score -1.975298\n",
      "[LightGBM] [Info] Start training from score -2.399199\n",
      "[LightGBM] [Info] Start training from score -5.055956\n",
      "[LightGBM] [Info] Start training from score -1.831641\n",
      "[LightGBM] [Warning] No further splits with positive gain, best gain: -inf\n",
      "[0.83149971 0.79617834 0.83198146 0.83314021 0.84588644]\n",
      "LightGBM accuracy: 0.83 +/- 0.02\n",
      "[0.84134337 0.79270411 0.83487833 0.84878331 0.86326767]\n",
      "CatBoost accuracy: 0.84 +/- 0.02\n"
     ]
    }
   ],
   "source": [
    "\n",
    "# Create a column transformer for preprocessing\n",
    "preprocessor = ColumnTransformer(\n",
    "    transformers=[\n",
    "        ('num', StandardScaler(), continuous_cols),\n",
    "        # ('cat', OrdinalEncoder(handle_unknown='use_encoded_value', unknown_value=-1), binary_cols)\n",
    "    ],\n",
    "    remainder='passthrough'\n",
    ")\n",
    "\n",
    "# Define classifiers to compare\n",
    "classifiers = {\n",
    "    'Logistic Regression': LogisticRegression(),\n",
    "    'Random Forest': RandomForestClassifier(),\n",
    "    'SVM': SVC(),\n",
    "    'LightGBM': LGBMClassifier(),\n",
    "    'CatBoost': CatBoostClassifier(verbose=0)  # verbose=0 to prevent lots of output\n",
    "}\n",
    "\n",
    "# X_train, X_test, y_train, y_test = train_test_split(X, y, test_size=0.2, random_state=42)\n",
    "\n",
    "# Compare classifiers\n",
    "for name, classifier in classifiers.items():\n",
    "    pipeline = Pipeline(steps=[('preprocessor', preprocessor),\n",
    "                               ('classifier', classifier)]\n",
    "    )\n",
    "    # Train the model on the training set\n",
    "    # pipeline.fit(X_train, y_train)\n",
    "\n",
    "    # Make predictions on the test set\n",
    "    # y_pred = pipeline.predict(X_test)\n",
    "\n",
    "    # Calculate the accuracy on the test set\n",
    "    # accuracy = accuracy_score(y_test, y_pred)\n",
    "    # print(f'{name} Test Accuracy: {accuracy:.2f}')\n",
    "\n",
    "\n",
    "    # Cross-validation\n",
    "    cv_scores = cross_val_score(pipeline, X, y, cv=5)\n",
    "    print(cv_scores)\n",
    "    print(f'{name} accuracy: {np.mean(cv_scores):.2f} +/- {np.std(cv_scores):.2f}')\n",
    "# \n",
    "# analyze, tune, or select the model based on the output."
   ]
  },
  {
   "cell_type": "code",
   "execution_count": null,
   "metadata": {},
   "outputs": [],
   "source": [
    "X_train, X_test, y_train, y_test = train_test_split(X, y, test_size=0.2, random_state=42)\n",
    "name, classifier = 'lgbm', \n",
    "\n",
    "    pipeline = Pipeline(steps=[('preprocessor', preprocessor),\n",
    "                               ('classifier', classifier)]\n",
    "    )"
   ]
  },
  {
   "cell_type": "code",
   "execution_count": 52,
   "metadata": {},
   "outputs": [
    {
     "name": "stdout",
     "output_type": "stream",
     "text": [
      "\u001b[0;31mSignature:\u001b[0m \u001b[0mpipeline\u001b[0m\u001b[0;34m.\u001b[0m\u001b[0mpredict\u001b[0m\u001b[0;34m(\u001b[0m\u001b[0mX\u001b[0m\u001b[0;34m,\u001b[0m \u001b[0;34m**\u001b[0m\u001b[0mpredict_params\u001b[0m\u001b[0;34m)\u001b[0m\u001b[0;34m\u001b[0m\u001b[0;34m\u001b[0m\u001b[0m\n",
      "\u001b[0;31mDocstring:\u001b[0m\n",
      "Transform the data, and apply `predict` with the final estimator.\n",
      "\n",
      "Call `transform` of each transformer in the pipeline. The transformed\n",
      "data are finally passed to the final estimator that calls `predict`\n",
      "method. Only valid if the final estimator implements `predict`.\n",
      "\n",
      "Parameters\n",
      "----------\n",
      "X : iterable\n",
      "    Data to predict on. Must fulfill input requirements of first step\n",
      "    of the pipeline.\n",
      "\n",
      "**predict_params : dict of string -> object\n",
      "    Parameters to the ``predict`` called at the end of all\n",
      "    transformations in the pipeline. Note that while this may be\n",
      "    used to return uncertainties from some models with return_std\n",
      "    or return_cov, uncertainties that are generated by the\n",
      "    transformations in the pipeline are not propagated to the\n",
      "    final estimator.\n",
      "\n",
      "    .. versionadded:: 0.20\n",
      "\n",
      "Returns\n",
      "-------\n",
      "y_pred : ndarray\n",
      "    Result of calling `predict` on the final estimator.\n",
      "\u001b[0;31mFile:\u001b[0m      ~/projects/domain_class/.venv/lib/python3.8/site-packages/sklearn/pipeline.py\n",
      "\u001b[0;31mType:\u001b[0m      method"
     ]
    }
   ],
   "source": [
    "pipeline.predict?"
   ]
  },
  {
   "cell_type": "code",
   "execution_count": 29,
   "metadata": {},
   "outputs": [
    {
     "data": {
      "text/plain": [
       "[BUNHO\n",
       " 0    7528\n",
       " 1    1104\n",
       " Name: count, dtype: int64,\n",
       " NALJJA\n",
       " 0    7707\n",
       " 1     925\n",
       " Name: count, dtype: int64,\n",
       " MYEONG\n",
       " 0    8631\n",
       " 1       1\n",
       " Name: count, dtype: int64,\n",
       " JUSO\n",
       " 0    8629\n",
       " 1       3\n",
       " Name: count, dtype: int64,\n",
       " YEOBU\n",
       " 0    7956\n",
       " 1     676\n",
       " Name: count, dtype: int64,\n",
       " CODE\n",
       " 0    7769\n",
       " 1     863\n",
       " Name: count, dtype: int64,\n",
       " ID\n",
       " 0    7477\n",
       " 1    1155\n",
       " Name: count, dtype: int64,\n",
       " SURYANG\n",
       " 0    8466\n",
       " 1     166\n",
       " Name: count, dtype: int64,\n",
       " GEUMAEK\n",
       " 0    8503\n",
       " 1     129\n",
       " Name: count, dtype: int64,\n",
       " NAEYOUNG\n",
       " 0    8627\n",
       " 1       5\n",
       " Name: count, dtype: int64,\n",
       " YUL\n",
       " 0    8592\n",
       " 1      40\n",
       " Name: count, dtype: int64,\n",
       " ETC\n",
       " 0    5067\n",
       " 1    3565\n",
       " Name: count, dtype: int64]"
      ]
     },
     "execution_count": 29,
     "metadata": {},
     "output_type": "execute_result"
    }
   ],
   "source": [
    "[X[col].value_counts() for col in X[binary_cols]]  "
   ]
  }
 ],
 "metadata": {
  "kernelspec": {
   "display_name": ".venv",
   "language": "python",
   "name": "python3"
  },
  "language_info": {
   "codemirror_mode": {
    "name": "ipython",
    "version": 3
   },
   "file_extension": ".py",
   "mimetype": "text/x-python",
   "name": "python",
   "nbconvert_exporter": "python",
   "pygments_lexer": "ipython3",
   "version": "3.8.10"
  }
 },
 "nbformat": 4,
 "nbformat_minor": 2
}
