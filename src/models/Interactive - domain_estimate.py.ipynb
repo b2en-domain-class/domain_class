{
 "cells": [
  {
   "cell_type": "markdown",
   "metadata": {
    "isInteractiveWindowMessageCell": true
   },
   "source": [
    "Connected to .venv (Python 3.8.10)"
   ]
  },
  {
   "cell_type": "code",
   "execution_count": 2,
   "metadata": {},
   "outputs": [
    {
     "name": "stderr",
     "output_type": "stream",
     "text": [
      "/home/dwna/projects/domain_class/.venv/lib/python3.8/site-packages/pydantic/_internal/_fields.py:149: UserWarning: Field \"model_server_url\" has conflict with protected namespace \"model_\".\n",
      "\n",
      "You may be able to resolve this warning by setting `model_config['protected_namespaces'] = ()`.\n",
      "  warnings.warn(\n",
      "/home/dwna/projects/domain_class/.venv/lib/python3.8/site-packages/pydantic/_internal/_config.py:318: UserWarning: Valid config keys have changed in V2:\n",
      "* 'schema_extra' has been renamed to 'json_schema_extra'\n",
      "  warnings.warn(message, UserWarning)\n"
     ]
    }
   ],
   "source": [
    "import os\n",
    "import sys\n",
    "import click\n",
    "import json\n",
    "from dotenv import load_dotenv, find_dotenv\n",
    "# Load the .env file\n",
    "\n",
    "load_dotenv(find_dotenv())\n",
    "package_path = os.getenv('PACKAGE_PATH')\n",
    "# package_path = '/home/dwna/projects/domain_class'\n",
    "\n",
    "sys.path.append(package_path)\n",
    "import pandas as pd\n",
    "from openpyxl import load_workbook\n",
    "import warnings\n",
    "# warnings.filterwarnings('ignore')\n",
    "\n",
    "import numpy as np\n",
    "from sklearn.model_selection import train_test_split, cross_val_score\n",
    "from sklearn.metrics import accuracy_score, classification_report\n",
    "from sklearn.pipeline import Pipeline\n",
    "from sklearn.preprocessing import StandardScaler, MinMaxScaler, OrdinalEncoder\n",
    "from sklearn.compose import ColumnTransformer\n",
    "from sklearn.linear_model import LogisticRegression\n",
    "from sklearn.ensemble import RandomForestClassifier\n",
    "from sklearn.svm import SVC\n",
    "from lightgbm import LGBMClassifier\n",
    "from catboost import CatBoostClassifier\n",
    "import mlflow\n",
    "import mlflow.sklearn\n",
    "import mlflow.pyfunc\n",
    "from mlflow.tracking import MlflowClient\n",
    "from src.features.build_features import BuildFeatures\n",
    "from src.models.train_model import load_data\n",
    "class ModelLoader:\n",
    "    def __init__(self, model_name=None, experiment_name=None, stage='Production'):\n",
    "        self.model_name = model_name\n",
    "        self.experiment_name = experiment_name\n",
    "        self.model = None\n",
    "        self.stage = stage\n",
    "    def load_model(self):\n",
    "        \"\"\"MLflow에서 모델을 불러옵니다. model_name 또는 experiment_name을 기반으로 합니다.\"\"\"\n",
    "        if self.model_name:\n",
    "            model_uri = f\"models:/{self.model_name}/{self.stage}\"\n",
    "            self.model = mlflow.pyfunc.load_model(model_uri)\n",
    "        elif self.experiment_name:\n",
    "            # experiment_name을 사용하여 모델 로드하는 로직 구현\n",
    "            # 예를 들어, experiment_id를 찾고, 해당 experiment의 최신 run에서 모델을 로드할 수 있습니다.\n",
    "            experiment = mlflow.get_experiment_by_name(self.experiment_name)\n",
    "            if experiment:\n",
    "                runs = mlflow.search_runs([experiment.experiment_id])\n",
    "                latest_run_id = runs.iloc[0]['run_id']\n",
    "                model_uri = f\"runs:/{latest_run_id}/model\"\n",
    "                self.model = mlflow.pyfunc.load_model(model_uri)\n",
    "            else:\n",
    "                raise ValueError(f\"No experiment found with name '{self.experiment_name}'\")\n",
    "        else:\n",
    "            raise ValueError(\"Model name or experiment name must be provided\")\n",
    "    def predict(self, data):\n",
    "        \"\"\"데이터에 대한 예측을 수행합니다.\"\"\"\n",
    "        if self.model is not None:\n",
    "            return self.model.predict(data)\n",
    "        else:\n",
    "            raise Exception(\"Model is not loaded. Call load_model() first.\")\n",
    "\n",
    "def load_best_model(experiment_name: str, metric: str = \"metrics.Test_Accuracy\"):\n",
    "    \"\"\"\n",
    "    주어진 실험 이름과 메트릭을 사용하여 MLflow에서 최적의 모델을 로드합니다.\n",
    "    :param experiment_name: 실험 이름.\n",
    "    :param metric: 최적 모델을 선택하기 위한 메트릭 이름.\n",
    "    :return: 최적의 모델 또는 실험이 없거나 실행을 찾지 못한 경우 None.\n",
    "    \"\"\"\n",
    "    mlflow.set_tracking_uri(f\"file://{package_path}/models\")\n",
    "    mlflow.set_experiment(experiment_name)\n",
    "    client = MlflowClient()\n",
    "    experiment = client.get_experiment_by_name(experiment_name)\n",
    "    if experiment:\n",
    "        experiment_id = experiment.experiment_id\n",
    "        runs = client.search_runs(experiment_id, order_by=[f\"{metric} DESC\"])\n",
    "        if runs:\n",
    "            best_run = runs[0]\n",
    "            best_run_id = best_run.info.run_id\n",
    "            # 메트릭 이름에서 \"metrics.\" 제거\n",
    "            metric_name = metric.split('.')[-1]\n",
    "            best_metric_value = best_run.data.metrics.get(metric_name)\n",
    "            if best_metric_value is not None:\n",
    "                # print(f\"Best run ID: {best_run_id} with {metric_name}: {best_metric_value}\")\n",
    "                model_uri = f\"runs:/{best_run_id}/model\"\n",
    "                return mlflow.pyfunc.load_model(model_uri)\n",
    "            else:\n",
    "                print(f\"Metric '{metric_name}' not found in the best run.\")\n",
    "        else:\n",
    "            print(\"No runs found for the given search criteria.\")\n",
    "    else:\n",
    "        print(\"Experiment not found.\")\n",
    "    return None\n",
    "\n",
    "def estimate_domain(model, data_file_path:str):\n",
    "    \"\"\"\n",
    "    주어진 series로부터 특징을 추출하고, 이를 사용하여 모델을 통해 예측값을 계산합니다.\n",
    "    :param model: 예측을 수행할 모델 객체.\n",
    "    :param series: 특징을 추출할 pd.Series, 리스트 또는 튜플.\n",
    "    :param col_name: 컬럼 이름 (옵션).\n",
    "    :return: 모델에 의해 예측된 결과.\n",
    "    \"\"\"\n",
    "    # load data\n",
    "    df = load_data(data_file_path)\n",
    "    # BuildFeatures를 사용하여 profiling patterns 실행\n",
    "    profiles =  pd.DataFrame([BuildFeatures(df[col]).profiling_patterns() for col in df])\n",
    "    # 'col_name', 'datatype', 'domain' 컬럼 제거\n",
    "    cols_to_drop = ['col_name', 'datatype', 'domain']\n",
    "    cols_to_drop = [col for col in cols_to_drop if col in profiles.columns]\n",
    "    features = profiles.drop(columns=cols_to_drop) if cols_to_drop else profiles\n",
    "    # 모델의 predict 메서드 유효성 확인\n",
    "    if not hasattr(model, 'predict'):\n",
    "        raise AttributeError(\"Provided model does not have a predict method\")\n",
    "    result = model.predict(features)\n",
    "    result = pd.DataFrame(result, index=df.columns, columns=['domain'])\n",
    "    return result"
   ]
  },
  {
   "cell_type": "code",
   "execution_count": 3,
   "metadata": {},
   "outputs": [],
   "source": [
    "def main(model_name, experiment_name, stage, data_path):\n",
    "    # model = load_best_model(experiment_nm)\n",
    "    model = ModelLoader(model_name, experiment_name, stage).load_model()\n",
    "    result = estimate_domain(model, data_path)\n",
    "    result.to_csv('result_of_domain_estimation_'+ data_path, index=False)\n",
    "    print(result.head())\n",
    "    return None"
   ]
  },
  {
   "cell_type": "code",
   "execution_count": 3,
   "metadata": {},
   "outputs": [
    {
     "ename": "TypeError",
     "evalue": "main() missing 2 required positional arguments: 'experiment_name' and 'stage'",
     "output_type": "error",
     "traceback": [
      "\u001b[0;31m---------------------------------------------------------------------------\u001b[0m",
      "\u001b[0;31mTypeError\u001b[0m                                 Traceback (most recent call last)",
      "Cell \u001b[0;32mIn[3], line 1\u001b[0m\n\u001b[0;32m----> 1\u001b[0m main(model_name\u001b[39m=\u001b[39;49m\u001b[39m'\u001b[39;49m\u001b[39mcat_best\u001b[39;49m\u001b[39m'\u001b[39;49m, data_path\u001b[39m=\u001b[39;49m\u001b[39m'\u001b[39;49m\u001b[39mtest.csv\u001b[39;49m\u001b[39m'\u001b[39;49m)\n",
      "\u001b[0;31mTypeError\u001b[0m: main() missing 2 required positional arguments: 'experiment_name' and 'stage'"
     ]
    }
   ],
   "source": [
    "main(model_name='cat_best', data_path='test.csv')"
   ]
  },
  {
   "cell_type": "code",
   "execution_count": 1,
   "metadata": {},
   "outputs": [
    {
     "ename": "NameError",
     "evalue": "name 'main' is not defined",
     "output_type": "error",
     "traceback": [
      "\u001b[0;31m---------------------------------------------------------------------------\u001b[0m",
      "\u001b[0;31mNameError\u001b[0m                                 Traceback (most recent call last)",
      "\u001b[1;32m/home/dwna/projects/domain_class/src/models/Interactive - domain_estimate.py.ipynb Cell 5\u001b[0m line \u001b[0;36m1\n\u001b[0;32m----> <a href='vscode-notebook-cell://wsl%2Bubuntu/home/dwna/projects/domain_class/src/models/Interactive%20-%20domain_estimate.py.ipynb#W4sdnNjb2RlLXJlbW90ZQ%3D%3D?line=0'>1</a>\u001b[0m main(\u001b[39m'\u001b[39m\u001b[39mcat_best\u001b[39m\u001b[39m'\u001b[39m, \u001b[39mNone\u001b[39;00m, \u001b[39m'\u001b[39m\u001b[39mProduction\u001b[39m\u001b[39m'\u001b[39m, data_path\u001b[39m=\u001b[39m\u001b[39m'\u001b[39m\u001b[39mtest.csv\u001b[39m\u001b[39m'\u001b[39m)\n",
      "\u001b[0;31mNameError\u001b[0m: name 'main' is not defined"
     ]
    }
   ],
   "source": [
    "main('cat_best', None, 'Production', data_path='test.csv')"
   ]
  },
  {
   "cell_type": "code",
   "execution_count": 5,
   "metadata": {},
   "outputs": [
    {
     "ename": "NameError",
     "evalue": "name 'model' is not defined",
     "output_type": "error",
     "traceback": [
      "\u001b[0;31m---------------------------------------------------------------------------\u001b[0m",
      "\u001b[0;31mNameError\u001b[0m                                 Traceback (most recent call last)",
      "Cell \u001b[0;32mIn[5], line 1\u001b[0m\n\u001b[0;32m----> 1\u001b[0m model\n",
      "\u001b[0;31mNameError\u001b[0m: name 'model' is not defined"
     ]
    }
   ],
   "source": [
    "model"
   ]
  }
 ],
 "metadata": {
  "kernelspec": {
   "display_name": ".venv",
   "language": "python",
   "name": "python3"
  },
  "language_info": {
   "codemirror_mode": {
    "name": "ipython",
    "version": 3
   },
   "file_extension": ".py",
   "mimetype": "text/x-python",
   "name": "python",
   "nbconvert_exporter": "python",
   "pygments_lexer": "ipython3",
   "version": "3.8.10"
  }
 },
 "nbformat": 4,
 "nbformat_minor": 2
}
